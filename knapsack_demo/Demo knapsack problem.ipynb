{
 "cells": [
  {
   "cell_type": "markdown",
   "metadata": {},
   "source": [
    "# Demo: knapsack problem\n",
    "\n",
    "## Load skid data"
   ]
  },
  {
   "cell_type": "code",
   "execution_count": 1,
   "metadata": {},
   "outputs": [],
   "source": [
    "def load_skids(filename):\n",
    "\n",
    "    skid_dict = dict()\n",
    "\n",
    "    f = open(filename, 'r')\n",
    "    \n",
    "    for line in f:\n",
    "        line_data = line.split(',')\n",
    "        skid_dict[line_data[0]] = int(line_data[1])\n",
    "        \n",
    "    return skid_dict"
   ]
  },
  {
   "cell_type": "code",
   "execution_count": 2,
   "metadata": {},
   "outputs": [
    {
     "data": {
      "text/plain": [
       "{'Statics': 3,\n",
       " 'Dynamics': 7,\n",
       " 'Mechanics of Materials': 9,\n",
       " 'Thermodynamics': 6,\n",
       " 'Heat Transfer': 3,\n",
       " 'Machine Design': 2,\n",
       " 'Fluid Mechanics': 5,\n",
       " 'Linear Algebra': 2,\n",
       " 'Control Systems': 2,\n",
       " 'Calculus': 9}"
      ]
     },
     "execution_count": 2,
     "metadata": {},
     "output_type": "execute_result"
    }
   ],
   "source": [
    "skids = load_skids(\"demo_data.txt\")\n",
    "skids"
   ]
  },
  {
   "cell_type": "markdown",
   "metadata": {},
   "source": [
    "## Freight Consolidation\n",
    "### Partitioning items (skids)"
   ]
  },
  {
   "cell_type": "code",
   "execution_count": 3,
   "metadata": {},
   "outputs": [],
   "source": [
    "def partitions(set_):\n",
    "    \"\"\" This function is adapted from codereview.stackexchange.com. \"\"\"\n",
    "    if not set_:\n",
    "        yield []\n",
    "        return\n",
    "    for i in range(2**len(set_)//2):\n",
    "        parts = [set(), set()]\n",
    "        for item in set_:\n",
    "            parts[i&1].add(item)\n",
    "            i >>= 1\n",
    "        for b in partitions(parts[1]):\n",
    "            yield [parts[0]]+b"
   ]
  },
  {
   "cell_type": "code",
   "execution_count": 4,
   "metadata": {},
   "outputs": [],
   "source": [
    "def get_partitions(set_):\n",
    "    \"\"\" This helper function fetches all of the available partitions. \"\"\"\n",
    "    for partition in partitions(set_):\n",
    "        yield [list(elt) for elt in partition]"
   ]
  },
  {
   "cell_type": "code",
   "execution_count": 5,
   "metadata": {},
   "outputs": [
    {
     "name": "stdout",
     "output_type": "stream",
     "text": [
      "[['c', 'd', 'a', 'b']]\n",
      "[['c', 'd', 'b'], ['a']]\n",
      "[['c', 'a', 'd'], ['b']]\n",
      "[['c', 'd'], ['a', 'b']]\n",
      "[['c', 'd'], ['b'], ['a']]\n",
      "[['d', 'a', 'b'], ['c']]\n",
      "[['d', 'b'], ['c', 'a']]\n",
      "[['d', 'b'], ['a'], ['c']]\n",
      "[['a', 'd'], ['c', 'b']]\n",
      "[['a', 'd'], ['b'], ['c']]\n",
      "[['d'], ['c', 'a', 'b']]\n",
      "[['d'], ['a', 'b'], ['c']]\n",
      "[['d'], ['c', 'b'], ['a']]\n",
      "[['d'], ['b'], ['c', 'a']]\n",
      "[['d'], ['b'], ['a'], ['c']]\n"
     ]
    }
   ],
   "source": [
    "for item in (get_partitions(['a','b','c','d'])):\n",
    "   print(item)"
   ]
  },
  {
   "cell_type": "markdown",
   "metadata": {},
   "source": [
    "## Using Brute-Force Algorithm"
   ]
  },
  {
   "cell_type": "code",
   "execution_count": 6,
   "metadata": {},
   "outputs": [],
   "source": [
    "def bruteforce_transport(skids, limit=10):\n",
    "    \"\"\"\n",
    "    Finds the allocation of skids that minimizes the number of trips or trailers\n",
    "    via brute force.  The algorithm should follow the following method:\n",
    "\n",
    "    1. Enumerate all possible ways that skids can be divided for separate trips.\n",
    "    2. Select the allocation that minimizes the number of trips without making \n",
    "        any trip that does not obey the weight limitation.\n",
    "\n",
    "    Parameters:\n",
    "    skids - a dictionary of name (string), weight (int) pairs\n",
    "    limit - weight limit of the fixed-size trailer (one int)\n",
    "    \n",
    "    Returns:\n",
    "    A list of lists, with each inner list containing the names of skids transported \n",
    "    on a particular trailer and the overall list containing all the trailers\n",
    "    \"\"\"\n",
    "    \n",
    "    skids_list = list(skids.copy()) # not mutate the given dictionary of skids\n",
    "\n",
    "    min_no_trip = len(skids_list) # set max number of trips = number of skids\n",
    "    \n",
    "    for skids_divided in get_partitions(skids_list):\n",
    "        \n",
    "        feasible = True\n",
    "        for trip in skids_divided:\n",
    "            if sum(skids[skid] for skid in trip) > limit:\n",
    "                feasible = False\n",
    "                break\n",
    "            \n",
    "        if feasible and len(skids_divided) < min_no_trip:\n",
    "            min_no_trip = len(skids_divided)\n",
    "            out = skids_divided\n",
    "            break\n",
    "        \n",
    "    return out"
   ]
  },
  {
   "cell_type": "code",
   "execution_count": 7,
   "metadata": {},
   "outputs": [
    {
     "data": {
      "text/plain": [
       "[['Calculus'],\n",
       " ['Statics', 'Dynamics'],\n",
       " ['Mechanics of Materials'],\n",
       " ['Fluid Mechanics', 'Machine Design', 'Control Systems'],\n",
       " ['Linear Algebra', 'Thermodynamics'],\n",
       " ['Heat Transfer']]"
      ]
     },
     "execution_count": 7,
     "metadata": {},
     "output_type": "execute_result"
    }
   ],
   "source": [
    "bruteforce_transport(load_skids(\"demo_data.txt\"), 10)"
   ]
  },
  {
   "cell_type": "markdown",
   "metadata": {},
   "source": [
    "### Using Greedy Heuristics"
   ]
  },
  {
   "cell_type": "code",
   "execution_count": 8,
   "metadata": {},
   "outputs": [],
   "source": [
    "def greedy_transport(skids, limit=10):\n",
    "    \"\"\"\n",
    "    Uses a greedy heuristic to determine an allocation of skids that attempts to\n",
    "    minimize the number of trips needed to transport all the skids. \n",
    "    The greedy heuristic should follow the following method:\n",
    "\n",
    "    1. As long as the trip can fit another skid, add the largest skid that fits\n",
    "    2. Once the trip is full, begin a new trip to transport the remaining skids\n",
    "\n",
    "    Parameters:\n",
    "    skids - a dictionary of name (string), weight (int) pairs\n",
    "    limit - weight limit of the fixed-size trailer (one int)\n",
    "    \n",
    "    Returns:\n",
    "    A list of lists, with each inner list containing the names of skids transported \n",
    "    on a particular trailer and the overall list containing all the trailers\n",
    "    \"\"\"\n",
    "    \n",
    "    trips = []\n",
    "    skids_left = skids.copy() # not mutate the given dictionary of skids\n",
    "    \n",
    "    while len(skids_left) != 0:\n",
    "        trip = []\n",
    "        capacity_left = limit\n",
    "        try:\n",
    "            smallest = min(skids_left.values())\n",
    "        except ValueError:\n",
    "            smallest = 0\n",
    "        \n",
    "        while capacity_left >= smallest and len(skids_left) != 0:\n",
    "            weight_sorted = sorted(skids_left.values(), reverse=True) # largest\n",
    "            \n",
    "            for w in weight_sorted: # search for next weight allowed on the trip\n",
    "                if w <= capacity_left:\n",
    "                    next_weight = w\n",
    "                    break\n",
    "            \n",
    "            for skid in skids_left.keys(): # search for corresponding skid\n",
    "                if skids_left[skid] == next_weight:\n",
    "                    next_skid = skid\n",
    "                    break\n",
    "                    \n",
    "            if next_skid in trip:\n",
    "                break\n",
    "            else:\n",
    "                trip.append(next_skid)    \n",
    "                capacity_left -= skids_left[next_skid]         \n",
    "                del(skids_left[next_skid])            \n",
    "            \n",
    "        trips.append(trip)\n",
    "    return trips"
   ]
  },
  {
   "cell_type": "code",
   "execution_count": 9,
   "metadata": {},
   "outputs": [
    {
     "data": {
      "text/plain": [
       "[['Mechanics of Materials'],\n",
       " ['Calculus'],\n",
       " ['Dynamics', 'Statics'],\n",
       " ['Thermodynamics', 'Heat Transfer'],\n",
       " ['Fluid Mechanics', 'Machine Design', 'Linear Algebra'],\n",
       " ['Control Systems']]"
      ]
     },
     "execution_count": 9,
     "metadata": {},
     "output_type": "execute_result"
    }
   ],
   "source": [
    "greedy_transport(load_skids(\"demo_data.txt\"), 10)"
   ]
  },
  {
   "cell_type": "markdown",
   "metadata": {},
   "source": [
    "## Comparing Solution Techniques"
   ]
  },
  {
   "cell_type": "code",
   "execution_count": 10,
   "metadata": {},
   "outputs": [
    {
     "name": "stdout",
     "output_type": "stream",
     "text": [
      "Brute force\n",
      "Number of trips: 6\n",
      "Computing time: 0.5431070327758789 seconds\n",
      "Greedy heuristics\n",
      "Number of trips: 6\n",
      "Computing time: 0.00011086463928222656 seconds\n"
     ]
    }
   ],
   "source": [
    "import time\n",
    "\n",
    "limit = 10\n",
    "    \n",
    "print(\"Brute force\")\n",
    "start = time.time()\n",
    "print(\"Number of trips: \" + str(len(bruteforce_transport(skids, limit))) )\n",
    "end = time.time()\n",
    "print(\"Computing time: \" + str(end - start) + \" seconds\")\n",
    "\n",
    "print(\"Greedy heuristics\")\n",
    "start = time.time()\n",
    "print(\"Number of trips: \" + str(len(greedy_transport(skids, limit))) )\n",
    "end = time.time()\n",
    "print(\"Computing time: \" + str(end - start) + \" seconds\")"
   ]
  }
 ],
 "metadata": {
  "kernelspec": {
   "display_name": "Python 3",
   "language": "python",
   "name": "python3"
  },
  "language_info": {
   "codemirror_mode": {
    "name": "ipython",
    "version": 3
   },
   "file_extension": ".py",
   "mimetype": "text/x-python",
   "name": "python",
   "nbconvert_exporter": "python",
   "pygments_lexer": "ipython3",
   "version": "3.7.6"
  }
 },
 "nbformat": 4,
 "nbformat_minor": 4
}
